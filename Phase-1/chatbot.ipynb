{
 "cells": [
  {
   "cell_type": "code",
   "execution_count": null,
   "metadata": {},
   "outputs": [],
   "source": [
    "import csv\n",
    "import nltk\n",
    "from nltk.tokenize import word_tokenize\n",
    "from nltk.corpus import stopwords\n",
    "from chatterbot import ChatBot\n",
    "from chatterbot.trainers import ChatterBotCorpusTrainer"
   ]
  },
  {
   "cell_type": "code",
   "execution_count": null,
   "metadata": {},
   "outputs": [],
   "source": [
    "nltk.download('punkt')\n",
    "nltk.download('stopwords')\n",
    "\n",
    "def preprocess_text(text):\n",
    "    # Tokenize the text\n",
    "    tokens = word_tokenize(text.lower())\n",
    "\n",
    "    # Remove stopwords and punctuations\n",
    "    stop_words = set(stopwords.words('english'))\n",
    "    preprocess_tokens = [token for token in tokens if token.isalnum() and token not in stop_words]\n",
    "\n",
    "    # Convert tokens back to text\n",
    "    preprocess_text = ' '.join(preprocess_tokens)\n",
    "\n",
    "    return preprocess_text\n",
    "\n",
    "def preprocess_dialogs(dialogs):\n",
    "    preprocessed_dialogs = []\n",
    "    for dialog in dialogs:\n",
    "        user_input = dialog[0]\n",
    "        bot_response = dialog[1]\n",
    "\n",
    "        preprocessed_user_input = preprocess_text(user_input)\n",
    "        preprocessed_bot_response = preprocess_text(bot_response)\n",
    "\n",
    "        preprocessed_dialogs.append([preprocessed_user_input, preprocessed_bot_response])\n",
    "\n",
    "    return preprocessed_dialogs"
   ]
  },
  {
   "cell_type": "code",
   "execution_count": null,
   "metadata": {},
   "outputs": [],
   "source": [
    "dialogs = []\n",
    "with open('path_to_csv_file', 'r') as file:\n",
    "    csv_reader = csv.reader(file)\n",
    "    next(csv_reader)  # Skip the header row\n",
    "    for row in csv_reader:\n",
    "        user_input = row[0]\n",
    "        bot_response = row[1]\n",
    "        dialogs.append([user_input, bot_response])\n",
    "\n",
    "preprocessed_dialogs = preprocess_dialogs(dialogs)"
   ]
  },
  {
   "cell_type": "code",
   "execution_count": null,
   "metadata": {},
   "outputs": [],
   "source": [
    "chatbot = ChatBot('Customer Support Bot')\n",
    "trainer = ChatterBotCorpusTrainer(chatbot)\n",
    "\n",
    "# Train the chatbot using the preprocessed dialogs\n",
    "trainer.train(preprocessed_dialogs)"
   ]
  },
  {
   "cell_type": "code",
   "execution_count": null,
   "metadata": {},
   "outputs": [],
   "source": [
    "from flask import Flask, request, render_template\n",
    "\n",
    "app = Flask(_name_)\n",
    "chatbot = ChatBot('Customer Support Bot')\n",
    "\n",
    "@app.route('/')\n",
    "def home():\n",
    "    return render_template('index.html')\n",
    "\n",
    "@app.route('/get_response', methods=['POST'])\n",
    "def get_response():\n",
    "    user_input = request.form['user_input']\n",
    "    preprocessed_input = preprocess_text(user_input)\n",
    "    response = chatbot.get_response(preprocessed_input)\n",
    "    return str(response)\n",
    "\n",
    "if _name_ == '_main_':\n",
    "    app.run()"
   ]
  },
  {
   "cell_type": "code",
   "execution_count": null,
   "metadata": {},
   "outputs": [],
   "source": []
  }
 ],
 "metadata": {
  "language_info": {
   "name": "python"
  },
  "orig_nbformat": 4
 },
 "nbformat": 4,
 "nbformat_minor": 2
}
